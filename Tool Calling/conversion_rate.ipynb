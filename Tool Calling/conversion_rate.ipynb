{
 "cells": [
  {
   "cell_type": "markdown",
   "id": "d7de6d46",
   "metadata": {},
   "source": [
    "# 🤖 Multi-Tool Gemini Assistant using LangChain\n",
    "\n",
    "In this notebook I built a **smart assistant** that decides which tool to use based on the user’s query — powered by **LangChain** and **Google Gemini**.\n",
    "\n",
    "### 🎯 Goal\n",
    "To practice **tool calling** and **agent reasoning** by creating a mini assistant that can:\n",
    "- 🕒 Get current time of a city  \n",
    "- 💱 Realtime currency converter\n",
    "- 🌦️ Check weather  \n"
   ]
  },
  {
   "cell_type": "code",
   "execution_count": 12,
   "id": "024e2a42",
   "metadata": {},
   "outputs": [],
   "source": [
    "# !pip install langchain langchain-google-genai python-dotenv langchain-core langchain-community\n",
    "# !pip install requests"
   ]
  },
  {
   "cell_type": "code",
   "execution_count": 13,
   "id": "521ce5f1",
   "metadata": {},
   "outputs": [],
   "source": [
    "from langchain_core.tools import tool"
   ]
  },
  {
   "cell_type": "code",
   "execution_count": 48,
   "id": "d137e3c7",
   "metadata": {},
   "outputs": [],
   "source": [
    "# first tool\n",
    "import requests\n",
    "import os\n",
    "\n",
    "\n",
    "@tool\n",
    "def get_weather(city: str) -> str:\n",
    "    \"\"\"Get the current weather for a given city.\"\"\"\n",
    "    api_key = os.getenv(\"FREE_WEATHER_API_KEY\")\n",
    "    url = f\"http://api.weatherapi.com/v1/current.json?key={api_key}&q={city}&aqi=no\"\n",
    "    response = requests.get(url)\n",
    "    data = response.json()\n",
    "\n",
    "    if data.get(\"error\"):\n",
    "        return f\"Error: {data['error']['message']}\"\n",
    "\n",
    "    weather_desc = data[\"current\"][\"condition\"][\"text\"]\n",
    "    temp = data[\"current\"][\"temp_c\"]\n",
    "    humidity = data[\"current\"][\"humidity\"]\n",
    "\n",
    "    return f\"City: {city}, Weather Conditon: {weather_desc}, Temperature {temp}°C, Humidity of {humidity}%.\"\n"
   ]
  },
  {
   "cell_type": "code",
   "execution_count": 49,
   "id": "a9565d2c",
   "metadata": {},
   "outputs": [],
   "source": [
    "# second tool\n",
    "\n",
    "EXCHANGE_RATE_API_KEY = os.getenv(\"EXCHANGE_RATE_API_KEY\")\n",
    "\n",
    "@tool\n",
    "def convert_currency(amount: float, from_currency: str, to_currency: str) -> str:\n",
    "    \"\"\"Convert from one currency to another based on real-time exchange rates.\n",
    "    \n",
    "    The model should:\n",
    "    - Automatically convert country names (e.g., \"India\", \"United States\", \"Japan\") into their ISO 4217 currency codes\n",
    "      (e.g., \"INR\", \"USD\", \"JPY\") before making the API call.\n",
    "    - Accept either full country names or valid currency codes as input.\n",
    "    \"\"\"\n",
    "    \n",
    "\n",
    "    try:\n",
    "        url = f\"https://v6.exchangerate-api.com/v6/{EXCHANGE_RATE_API_KEY}/pair/{from_currency.upper()}/{to_currency.upper()}\"\n",
    "        response = requests.get(url)    \n",
    "        data = response.json()\n",
    "        conversion_rate = data[\"conversion_rate\"]\n",
    "\n",
    "        converted_amount = amount * conversion_rate\n",
    "        return f\"{amount} {from_currency.upper()} is equal to {converted_amount:.2f} {to_currency.upper()}.\"\n",
    "    \n",
    "    except KeyError:\n",
    "        print(KeyError)\n",
    "        return \"Error: Unable to retrieve conversion rate.\""
   ]
  },
  {
   "cell_type": "code",
   "execution_count": null,
   "id": "b4739ba9",
   "metadata": {},
   "outputs": [
    {
     "data": {
      "text/plain": [
       "'100.0 USD is equal to 8877.58 INR.'"
      ]
     },
     "execution_count": 36,
     "metadata": {},
     "output_type": "execute_result"
    }
   ],
   "source": [
    "# test the currency conversion tool\n",
    "\n",
    "convert_currency.invoke({\n",
    "    \"amount\": 100,\n",
    "    \"from_currency\": \"USD\",\n",
    "    \"to_currency\": \"INR\"\n",
    "})\n"
   ]
  },
  {
   "cell_type": "code",
   "execution_count": 50,
   "id": "3ad37615",
   "metadata": {},
   "outputs": [],
   "source": [
    "# third tool\n",
    "from datetime import datetime\n",
    "\n",
    "@tool\n",
    "def get_time():\n",
    "    \"\"\"Get the current time in UTC.\"\"\"\n",
    "    return datetime.utcnow().strftime(\"%Y-%m-%d %H:%M:%S UTC\")"
   ]
  },
  {
   "cell_type": "code",
   "execution_count": 51,
   "id": "7aa99b7a",
   "metadata": {},
   "outputs": [],
   "source": [
    "from langchain_google_genai import ChatGoogleGenerativeAI\n",
    "\n",
    "from dotenv import load_dotenv\n",
    "load_dotenv()\n",
    "\n",
    "llm = ChatGoogleGenerativeAI(model=\"gemini-2.0-flash\")\n",
    "\n",
    "llm_with_tools = llm.bind_tools([get_weather, convert_currency, get_time])"
   ]
  },
  {
   "cell_type": "code",
   "execution_count": 52,
   "id": "ef4e5557",
   "metadata": {},
   "outputs": [
    {
     "name": "stdout",
     "output_type": "stream",
     "text": [
      "{'name': 'get_weather', 'arguments': '{\"city\": \"Faisalabad\"}'}\n"
     ]
    }
   ],
   "source": [
    "from langchain_core.messages import HumanMessage\n",
    "\n",
    "messages = [HumanMessage(content=\"Briefly guide me about the current weather of Faisalabad?\")]\n",
    "# messages = [HumanMessage(content=\"Convert 100 US Dollars to Indian Rupees.\")]\n",
    "\n",
    "ai_response = llm_with_tools.invoke(messages)\n",
    "\n",
    "print(ai_response.additional_kwargs[\"function_call\"])\n",
    "messages.append(ai_response)"
   ]
  },
  {
   "cell_type": "code",
   "execution_count": 53,
   "id": "f843679d",
   "metadata": {},
   "outputs": [],
   "source": [
    "import json\n",
    "\n",
    "function_calls = ai_response.additional_kwargs[\"function_call\"]\n",
    "\n",
    "\n",
    "if isinstance(function_calls, dict): # if llm returned a single function call\n",
    "    function_calls = [function_calls]\n",
    "    \n",
    "    \n",
    "for tool_call in function_calls:\n",
    "    tool_name = tool_call[\"name\"]\n",
    "    \n",
    "    tool_args = json.loads(tool_call[\"arguments\"])\n",
    "    \n",
    "    if tool_name == \"convert_currency\":\n",
    "        tool_result = convert_currency.invoke(tool_args)\n",
    "    \n",
    "    elif tool_name == \"get_weather\":\n",
    "        tool_result = get_weather.invoke(tool_args)\n",
    "    \n",
    "    elif tool_name == \"get_time\":\n",
    "        tool_result = get_time()\n",
    "    \n",
    "    messages.append(HumanMessage(tool_result))"
   ]
  },
  {
   "cell_type": "code",
   "execution_count": 54,
   "id": "84643e84",
   "metadata": {},
   "outputs": [
    {
     "name": "stdout",
     "output_type": "stream",
     "text": [
      "[HumanMessage(content='Briefly guide me about the current weather of Faisalabad?', additional_kwargs={}, response_metadata={}), AIMessage(content='', additional_kwargs={'function_call': {'name': 'get_weather', 'arguments': '{\"city\": \"Faisalabad\"}'}}, response_metadata={'prompt_feedback': {'block_reason': 0, 'safety_ratings': []}, 'finish_reason': 'STOP', 'model_name': 'gemini-2.0-flash', 'safety_ratings': [], 'grounding_metadata': {}, 'model_provider': 'google_genai'}, id='lc_run--f3fbf51e-a22b-4f71-a8de-f1ff11e608a5-0', tool_calls=[{'name': 'get_weather', 'args': {'city': 'Faisalabad'}, 'id': '54736c2b-1e29-4c5d-bd1e-21cf70a73ce6', 'type': 'tool_call'}], usage_metadata={'input_tokens': 148, 'output_tokens': 7, 'total_tokens': 155, 'input_token_details': {'cache_read': 0}}), HumanMessage(content='City: Faisalabad, Weather Conditon: Clear, Temperature 26.4°C, Humidity of 19%.', additional_kwargs={}, response_metadata={})]\n"
     ]
    }
   ],
   "source": [
    "print(messages)"
   ]
  },
  {
   "cell_type": "code",
   "execution_count": 56,
   "id": "f7d28d74",
   "metadata": {},
   "outputs": [
    {
     "data": {
      "text/plain": [
       "'Okay, the current weather in Faisalabad is clear with a temperature of 26.4°C and 19% humidity.'"
      ]
     },
     "execution_count": 56,
     "metadata": {},
     "output_type": "execute_result"
    }
   ],
   "source": [
    "llm_with_tools.invoke(messages).content"
   ]
  }
 ],
 "metadata": {
  "kernelspec": {
   "display_name": "venv",
   "language": "python",
   "name": "python3"
  },
  "language_info": {
   "codemirror_mode": {
    "name": "ipython",
    "version": 3
   },
   "file_extension": ".py",
   "mimetype": "text/x-python",
   "name": "python",
   "nbconvert_exporter": "python",
   "pygments_lexer": "ipython3",
   "version": "3.11.8"
  }
 },
 "nbformat": 4,
 "nbformat_minor": 5
}
